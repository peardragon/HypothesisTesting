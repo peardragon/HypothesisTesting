{
 "cells": [
  {
   "cell_type": "markdown",
   "id": "rotary-pulse",
   "metadata": {},
   "source": [
    "import packages"
   ]
  },
  {
   "cell_type": "code",
   "execution_count": 1,
   "id": "abroad-congress",
   "metadata": {},
   "outputs": [],
   "source": [
    "import scipy.optimize as opt\n",
    "import numpy as np\n",
    "import pandas as pd\n",
    "import matplotlib.pyplot as plt"
   ]
  },
  {
   "cell_type": "markdown",
   "id": "southern-arnold",
   "metadata": {},
   "source": [
    "import dataset and plotting"
   ]
  },
  {
   "cell_type": "code",
   "execution_count": 2,
   "id": "reliable-publisher",
   "metadata": {},
   "outputs": [],
   "source": [
    "def lorenztian(x, A, sigma, mu):\n",
    "    return A/np.pi * (sigma/((x-mu)**2+sigma**2))\n",
    "\n",
    "def double_lorenztian(x, a1, s1, m1, a2, s2, m2, y0):\n",
    "    return lorenztian(x, a1,s1,m1)+lorenztian(x,a2,s2,m2)+y0"
   ]
  },
  {
   "cell_type": "code",
   "execution_count": 3,
   "id": "delayed-portsmouth",
   "metadata": {},
   "outputs": [
    {
     "data": {
      "text/html": [
       "<div>\n",
       "<style scoped>\n",
       "    .dataframe tbody tr th:only-of-type {\n",
       "        vertical-align: middle;\n",
       "    }\n",
       "\n",
       "    .dataframe tbody tr th {\n",
       "        vertical-align: top;\n",
       "    }\n",
       "\n",
       "    .dataframe thead th {\n",
       "        text-align: right;\n",
       "    }\n",
       "</style>\n",
       "<table border=\"1\" class=\"dataframe\">\n",
       "  <thead>\n",
       "    <tr style=\"text-align: right;\">\n",
       "      <th></th>\n",
       "      <th>WaveLength</th>\n",
       "      <th>Results</th>\n",
       "    </tr>\n",
       "  </thead>\n",
       "  <tbody>\n",
       "    <tr>\n",
       "      <th>0</th>\n",
       "      <td>662.72107</td>\n",
       "      <td>484</td>\n",
       "    </tr>\n",
       "    <tr>\n",
       "      <th>1</th>\n",
       "      <td>662.77649</td>\n",
       "      <td>487</td>\n",
       "    </tr>\n",
       "    <tr>\n",
       "      <th>2</th>\n",
       "      <td>662.83191</td>\n",
       "      <td>487</td>\n",
       "    </tr>\n",
       "    <tr>\n",
       "      <th>3</th>\n",
       "      <td>662.88727</td>\n",
       "      <td>485</td>\n",
       "    </tr>\n",
       "    <tr>\n",
       "      <th>4</th>\n",
       "      <td>662.94269</td>\n",
       "      <td>487</td>\n",
       "    </tr>\n",
       "    <tr>\n",
       "      <th>...</th>\n",
       "      <td>...</td>\n",
       "      <td>...</td>\n",
       "    </tr>\n",
       "    <tr>\n",
       "      <th>1005</th>\n",
       "      <td>716.80798</td>\n",
       "      <td>500</td>\n",
       "    </tr>\n",
       "    <tr>\n",
       "      <th>1006</th>\n",
       "      <td>716.85999</td>\n",
       "      <td>502</td>\n",
       "    </tr>\n",
       "    <tr>\n",
       "      <th>1007</th>\n",
       "      <td>716.91205</td>\n",
       "      <td>499</td>\n",
       "    </tr>\n",
       "    <tr>\n",
       "      <th>1008</th>\n",
       "      <td>716.96411</td>\n",
       "      <td>500</td>\n",
       "    </tr>\n",
       "    <tr>\n",
       "      <th>1009</th>\n",
       "      <td>717.01611</td>\n",
       "      <td>480</td>\n",
       "    </tr>\n",
       "  </tbody>\n",
       "</table>\n",
       "<p>1010 rows × 2 columns</p>\n",
       "</div>"
      ],
      "text/plain": [
       "      WaveLength  Results\n",
       "0      662.72107      484\n",
       "1      662.77649      487\n",
       "2      662.83191      487\n",
       "3      662.88727      485\n",
       "4      662.94269      487\n",
       "...          ...      ...\n",
       "1005   716.80798      500\n",
       "1006   716.85999      502\n",
       "1007   716.91205      499\n",
       "1008   716.96411      500\n",
       "1009   717.01611      480\n",
       "\n",
       "[1010 rows x 2 columns]"
      ]
     },
     "metadata": {},
     "output_type": "display_data"
    }
   ],
   "source": [
    "file_path = f\"./ruby 100K.asc\"\n",
    "df_results = pd.read_csv(file_path,sep=\"\\t\",names=['WaveLength', 'Results'],skiprows=40,usecols=range(2),header=None)\n",
    "display(df_results)"
   ]
  },
  {
   "cell_type": "code",
   "execution_count": 4,
   "id": "removed-addition",
   "metadata": {},
   "outputs": [
    {
     "data": {
      "text/plain": [
       "[<matplotlib.lines.Line2D at 0x2034b549bb0>]"
      ]
     },
     "execution_count": 4,
     "metadata": {},
     "output_type": "execute_result"
    },
    {
     "data": {
      "image/png": "[encoded data removed]",
      "text/plain": [
       "<Figure size 432x288 with 1 Axes>"
      ]
     },
     "metadata": {
      "needs_background": "light"
     },
     "output_type": "display_data"
    }
   ],
   "source": [
    "x = df_results.WaveLength.values\n",
    "y = df_results.Results.values\n",
    "\n",
    "max_idx = np.argmax(y)\n",
    "view_range = 40\n",
    "x = x[max_idx-view_range : max_idx+view_range].copy()\n",
    "y = y[max_idx-view_range : max_idx+view_range].copy()\n",
    "plt.plot(x,y)"
   ]
  },
  {
   "cell_type": "code",
   "execution_count": 5,
   "id": "miniature-journalism",
   "metadata": {},
   "outputs": [],
   "source": [
    "p0=[900*np.pi*0.05,0,693.5,1300*np.pi*0.05,0,692.5,0]\n",
    "popt, pcov = opt.curve_fit(double_lorenztian, x, y, p0=p0, \n",
    "                           method=\"trf\",\n",
    "                           ftol=1e-15, xtol = 1e-15, gtol = 1e-15,\n",
    "                           max_nfev=20000, \n",
    "                           x_scale = [1, 0.0001, 0.001, 1, 0.0001, 0.001,1])"
   ]
  },
  {
   "cell_type": "code",
   "execution_count": 6,
   "id": "adjustable-watson",
   "metadata": {},
   "outputs": [],
   "source": [
    "def adjr_squared(y, y_pred,p):\n",
    "    residuals = y - y_pred\n",
    "    ss_res = np.sum(residuals**2)\n",
    "    ss_tot = np.sum((y-np.mean(y))**2)\n",
    "    n = len(y)\n",
    "    r_squared = 1 - ((ss_res/(n-p)) / (ss_tot/(n-1)))\n",
    "\n",
    "    return r_squared"
   ]
  },
  {
   "cell_type": "code",
   "execution_count": 7,
   "id": "healthy-southeast",
   "metadata": {},
   "outputs": [],
   "source": [
    "r_square = adjr_squared(y, double_lorenztian(x, *popt), 1)"
   ]
  },
  {
   "cell_type": "markdown",
   "id": "egyptian-radius",
   "metadata": {},
   "source": [
    "plot fitted curve and data with r-squared value"
   ]
  },
  {
   "cell_type": "code",
   "execution_count": 8,
   "id": "difficult-currency",
   "metadata": {},
   "outputs": [
    {
     "data": {
      "text/plain": [
       "<matplotlib.legend.Legend at 0x2034b627d30>"
      ]
     },
     "execution_count": 8,
     "metadata": {},
     "output_type": "execute_result"
    },
    {
     "data": {
      "image/png": "[encoded data removed]",
      "text/plain": [
       "<Figure size 432x288 with 1 Axes>"
      ]
     },
     "metadata": {
      "needs_background": "light"
     },
     "output_type": "display_data"
    }
   ],
   "source": [
    "plt.plot(x,y, 'ko', markersize=1.2, label=\"Data\")\n",
    "xfit = np.linspace(np.min(x), np.max(x), 500)\n",
    "plt.plot(xfit, double_lorenztian(xfit, *popt), 'k--', alpha=0.5,label=\"Fit\")\n",
    "plt.title(f\"Experiment Result\")\n",
    "plt.xlabel(r\"$Wavelength \\ (nm)$\")\n",
    "plt.text(0.05, 0.90, f'$R^2 : {r_square:.3f}$', transform=plt.gca().transAxes)\n",
    "\n",
    "plt.legend()"
   ]
  },
  {
   "cell_type": "markdown",
   "id": "cardiac-cooper",
   "metadata": {},
   "source": [
    "calculate error of regression parameters"
   ]
  },
  {
   "cell_type": "code",
   "execution_count": 9,
   "id": "boolean-double",
   "metadata": {},
   "outputs": [
    {
     "name": "stdout",
     "output_type": "stream",
     "text": [
      "[2.59762838e+02 9.72039048e-02 6.93812922e+02 1.31543424e+02\n",
      " 8.84284282e-02 6.92381696e+02 4.76160349e+02]\n",
      "[6.17770560e+00 2.98453365e-03 1.96521853e-03 5.79808959e+00\n",
      " 5.13756371e-03 3.33459113e-03 3.05002242e+00]\n"
     ]
    }
   ],
   "source": [
    "err = np.sqrt(np.diag(pcov))\n",
    "print(popt)\n",
    "print(err)"
   ]
  },
  {
   "cell_type": "markdown",
   "id": "placed-latest",
   "metadata": {},
   "source": [
    "example   \n",
    "H0 : two peaks has same FWHM. (FWHM1 = FWHM2 )\n",
    "H1 : not H0 (FWHM1 > FWHM2 )  \n",
    "one-tailed test"
   ]
  },
  {
   "cell_type": "code",
   "execution_count": 10,
   "id": "bottom-appraisal",
   "metadata": {},
   "outputs": [],
   "source": [
    "from uncertainties import ufloat\n",
    "import scipy.stats as stats"
   ]
  },
  {
   "cell_type": "code",
   "execution_count": 11,
   "id": "female-cylinder",
   "metadata": {},
   "outputs": [
    {
     "name": "stdout",
     "output_type": "stream",
     "text": [
      "First Peak FWHM : 0.0486+/-0.0015 nm\n",
      "Second Peak FWHM : 0.0442+/-0.0026 nm\n",
      "statistic : 1.4769678689855734\n"
     ]
    },
    {
     "data": {
      "text/plain": [
       "<matplotlib.legend.Legend at 0x2034ec6a2b0>"
      ]
     },
     "execution_count": 11,
     "metadata": {},
     "output_type": "execute_result"
    },
    {
     "data": {
      "image/png": "[encoded data removed]",
      "text/plain": [
       "<Figure size 432x288 with 1 Axes>"
      ]
     },
     "metadata": {
      "needs_background": "light"
     },
     "output_type": "display_data"
    }
   ],
   "source": [
    "x1 = ufloat(popt[1], err[1])\n",
    "x2 = ufloat(popt[4], err[4])\n",
    "print(f\"First Peak FWHM : {x1/2} nm\")\n",
    "print(f\"Second Peak FWHM : {x2/2} nm\")\n",
    "\n",
    "statistic = (x1.n-x2.n)/np.sqrt(x1.s**2+x2.s**2)\n",
    "print(f\"statistic : {statistic}\")\n",
    "cdf = stats.norm(0,1).cdf(statistic)\n",
    "\n",
    "z = np.linspace(-4, 4, 100)\n",
    "plt.plot(z, stats.norm.pdf(z), \"k\")\n",
    "plt.plot(statistic, 0, \"ro\",label=f\"Test Statistic\")\n",
    "z_exceed= np.linspace(statistic, 4, 100)\n",
    "plt.fill_between(z_exceed, stats.norm.pdf(z_exceed), facecolor='blue', alpha=0.35)\n",
    "plt.title(\"Z - Distribution - Test Statistic \")\n",
    "p_val = 1-cdf\n",
    "plt.text(0.05, 0.90, f'$P-value : {p_val:.3f}$', transform=plt.gca().transAxes)\n",
    "plt.legend()\n"
   ]
  },
  {
   "cell_type": "markdown",
   "id": "fourth-kingston",
   "metadata": {},
   "source": [
    "with 0.05 significance level, p-val = 0.07, H0 no not rejected  \n",
    "∴ Two peaks has same FWHM"
   ]
  },
  {
   "cell_type": "markdown",
   "id": "irish-cardiff",
   "metadata": {},
   "source": [
    "More : two tailed Test"
   ]
  },
  {
   "cell_type": "code",
   "execution_count": 12,
   "id": "deluxe-forum",
   "metadata": {},
   "outputs": [
    {
     "name": "stdout",
     "output_type": "stream",
     "text": [
      "First Peak FWHM : 0.0486+/-0.0015 nm\n",
      "Second Peak FWHM : 0.0442+/-0.0026 nm\n",
      "statistic : 1.4769678689855734\n"
     ]
    },
    {
     "data": {
      "text/plain": [
       "<matplotlib.legend.Legend at 0x2034ed20df0>"
      ]
     },
     "execution_count": 12,
     "metadata": {},
     "output_type": "execute_result"
    },
    {
     "data": {
      "image/png": "[encoded data removed]",
      "text/plain": [
       "<Figure size 432x288 with 1 Axes>"
      ]
     },
     "metadata": {
      "needs_background": "light"
     },
     "output_type": "display_data"
    }
   ],
   "source": [
    "x1 = ufloat(popt[1], err[1])\n",
    "x2 = ufloat(popt[4], err[4])\n",
    "print(f\"First Peak FWHM : {x1/2} nm\")\n",
    "print(f\"Second Peak FWHM : {x2/2} nm\")\n",
    "\n",
    "statistic = (x1.n-x2.n)/np.sqrt(x1.s**2+x2.s**2)\n",
    "print(f\"statistic : {statistic}\")\n",
    "cdf = stats.norm(0,1).cdf(statistic)\n",
    "\n",
    "z = np.linspace(-4, 4, 100)\n",
    "plt.plot(z, stats.norm.pdf(z), \"k\")\n",
    "\n",
    "plt.plot(statistic, 0, \"ro\",label=f\"Test Statistic\")\n",
    "plt.plot(-statistic, 0, \"ro\")\n",
    "\n",
    "z_exceed= np.linspace(statistic, 4, 100)\n",
    "z_exceed_left= np.linspace(-4, -statistic, 100)\n",
    "\n",
    "plt.fill_between(z_exceed, stats.norm.pdf(z_exceed), facecolor='blue', alpha=0.35)\n",
    "plt.fill_between(z_exceed_left, stats.norm.pdf(z_exceed_left), facecolor='blue', alpha=0.35)\n",
    "\n",
    "\n",
    "plt.title(\"Z - Distribution - Test Statistic \")\n",
    "p_val = 1-cdf\n",
    "p_val = 2*p_val\n",
    "plt.text(0.05, 0.90, f'$P-value : {p_val:.3f}$', transform=plt.gca().transAxes)\n",
    "plt.legend()\n"
   ]
  }
 ],
 "metadata": {
  "kernelspec": {
   "display_name": "Python 3",
   "language": "python",
   "name": "python3"
  },
  "language_info": {
   "codemirror_mode": {
    "name": "ipython",
    "version": 3
   },
   "file_extension": ".py",
   "mimetype": "text/x-python",
   "name": "python",
   "nbconvert_exporter": "python",
   "pygments_lexer": "ipython3",
   "version": "3.8.3"
  },
  "toc": {
   "base_numbering": 1,
   "nav_menu": {},
   "number_sections": true,
   "sideBar": true,
   "skip_h1_title": false,
   "title_cell": "Table of Contents",
   "title_sidebar": "Contents",
   "toc_cell": false,
   "toc_position": {},
   "toc_section_display": true,
   "toc_window_display": false
  }
 },
 "nbformat": 4,
 "nbformat_minor": 5
}
